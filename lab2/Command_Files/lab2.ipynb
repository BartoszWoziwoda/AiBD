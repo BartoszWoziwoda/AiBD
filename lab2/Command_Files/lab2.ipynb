{
 "cells": [
  {
   "cell_type": "markdown",
   "id": "14177400",
   "metadata": {},
   "source": [
    "# Bartosz Woziwoda 402935 gr 3a\n",
    "## Analiza i Bazy Danych\n",
    "\n",
    "# LAB 2"
   ]
  },
  {
   "cell_type": "markdown",
   "id": "c4938d1e",
   "metadata": {},
   "source": [
    "**Numer swojego datasetu uzyskujemy ze wzoru (N mod 5) +1, gdzie N to liczba liter w nazwisku.**\n",
    "\n",
    "Woziwoda -> N = 8\n",
    "(8 mod 5) +1 = **4** \n",
    "<br>\n",
    "\" 4. drinks.csv Dane i informacje: https://fivethirtyeight.com/features/dear-mona-followup-where-do-people-drink-the-most-beer-wine-and-spirits/ \""
   ]
  },
  {
   "cell_type": "markdown",
   "id": "0565abd2",
   "metadata": {},
   "source": [
    "### 1. Wczytanie bibliotek"
   ]
  },
  {
   "cell_type": "code",
   "execution_count": 1,
   "id": "fd9e8b78",
   "metadata": {},
   "outputs": [],
   "source": [
    "import numpy as np\n",
    "import pandas as pd\n",
    "import matplotlib.pyplot as plt\n",
    "import seaborn as sns"
   ]
  },
  {
   "cell_type": "markdown",
   "id": "37afb4d1",
   "metadata": {},
   "source": [
    "### 2. Wczytanie danych"
   ]
  },
  {
   "cell_type": "code",
   "execution_count": 3,
   "id": "6e31c7c1",
   "metadata": {},
   "outputs": [],
   "source": [
    "df = pd.read_csv(\"drinks.csv\",sep=',',header=0,index_col=0)\n",
    "#,error_bad_lines=False)"
   ]
  },
  {
   "cell_type": "code",
   "execution_count": 4,
   "id": "0e3f85e0",
   "metadata": {},
   "outputs": [
    {
     "data": {
      "text/html": [
       "<div>\n",
       "<style scoped>\n",
       "    .dataframe tbody tr th:only-of-type {\n",
       "        vertical-align: middle;\n",
       "    }\n",
       "\n",
       "    .dataframe tbody tr th {\n",
       "        vertical-align: top;\n",
       "    }\n",
       "\n",
       "    .dataframe thead th {\n",
       "        text-align: right;\n",
       "    }\n",
       "</style>\n",
       "<table border=\"1\" class=\"dataframe\">\n",
       "  <thead>\n",
       "    <tr style=\"text-align: right;\">\n",
       "      <th></th>\n",
       "      <th>beer_servings</th>\n",
       "      <th>spirit_servings</th>\n",
       "      <th>wine_servings</th>\n",
       "      <th>total_litres_of_pure_alcohol</th>\n",
       "    </tr>\n",
       "    <tr>\n",
       "      <th>country</th>\n",
       "      <th></th>\n",
       "      <th></th>\n",
       "      <th></th>\n",
       "      <th></th>\n",
       "    </tr>\n",
       "  </thead>\n",
       "  <tbody>\n",
       "    <tr>\n",
       "      <th>Afghanistan</th>\n",
       "      <td>0</td>\n",
       "      <td>0</td>\n",
       "      <td>0</td>\n",
       "      <td>0.0</td>\n",
       "    </tr>\n",
       "    <tr>\n",
       "      <th>Albania</th>\n",
       "      <td>89</td>\n",
       "      <td>132</td>\n",
       "      <td>54</td>\n",
       "      <td>4.9</td>\n",
       "    </tr>\n",
       "    <tr>\n",
       "      <th>Algeria</th>\n",
       "      <td>25</td>\n",
       "      <td>0</td>\n",
       "      <td>14</td>\n",
       "      <td>0.7</td>\n",
       "    </tr>\n",
       "    <tr>\n",
       "      <th>Andorra</th>\n",
       "      <td>245</td>\n",
       "      <td>138</td>\n",
       "      <td>312</td>\n",
       "      <td>12.4</td>\n",
       "    </tr>\n",
       "    <tr>\n",
       "      <th>Angola</th>\n",
       "      <td>217</td>\n",
       "      <td>57</td>\n",
       "      <td>45</td>\n",
       "      <td>5.9</td>\n",
       "    </tr>\n",
       "    <tr>\n",
       "      <th>...</th>\n",
       "      <td>...</td>\n",
       "      <td>...</td>\n",
       "      <td>...</td>\n",
       "      <td>...</td>\n",
       "    </tr>\n",
       "    <tr>\n",
       "      <th>Venezuela</th>\n",
       "      <td>333</td>\n",
       "      <td>100</td>\n",
       "      <td>3</td>\n",
       "      <td>7.7</td>\n",
       "    </tr>\n",
       "    <tr>\n",
       "      <th>Vietnam</th>\n",
       "      <td>111</td>\n",
       "      <td>2</td>\n",
       "      <td>1</td>\n",
       "      <td>2.0</td>\n",
       "    </tr>\n",
       "    <tr>\n",
       "      <th>Yemen</th>\n",
       "      <td>6</td>\n",
       "      <td>0</td>\n",
       "      <td>0</td>\n",
       "      <td>0.1</td>\n",
       "    </tr>\n",
       "    <tr>\n",
       "      <th>Zambia</th>\n",
       "      <td>32</td>\n",
       "      <td>19</td>\n",
       "      <td>4</td>\n",
       "      <td>2.5</td>\n",
       "    </tr>\n",
       "    <tr>\n",
       "      <th>Zimbabwe</th>\n",
       "      <td>64</td>\n",
       "      <td>18</td>\n",
       "      <td>4</td>\n",
       "      <td>4.7</td>\n",
       "    </tr>\n",
       "  </tbody>\n",
       "</table>\n",
       "<p>193 rows × 4 columns</p>\n",
       "</div>"
      ],
      "text/plain": [
       "             beer_servings  spirit_servings  wine_servings  \\\n",
       "country                                                      \n",
       "Afghanistan              0                0              0   \n",
       "Albania                 89              132             54   \n",
       "Algeria                 25                0             14   \n",
       "Andorra                245              138            312   \n",
       "Angola                 217               57             45   \n",
       "...                    ...              ...            ...   \n",
       "Venezuela              333              100              3   \n",
       "Vietnam                111                2              1   \n",
       "Yemen                    6                0              0   \n",
       "Zambia                  32               19              4   \n",
       "Zimbabwe                64               18              4   \n",
       "\n",
       "             total_litres_of_pure_alcohol  \n",
       "country                                    \n",
       "Afghanistan                           0.0  \n",
       "Albania                               4.9  \n",
       "Algeria                               0.7  \n",
       "Andorra                              12.4  \n",
       "Angola                                5.9  \n",
       "...                                   ...  \n",
       "Venezuela                             7.7  \n",
       "Vietnam                               2.0  \n",
       "Yemen                                 0.1  \n",
       "Zambia                                2.5  \n",
       "Zimbabwe                              4.7  \n",
       "\n",
       "[193 rows x 4 columns]"
      ]
     },
     "execution_count": 4,
     "metadata": {},
     "output_type": "execute_result"
    }
   ],
   "source": [
    "df"
   ]
  },
  {
   "cell_type": "markdown",
   "id": "b862dd8d",
   "metadata": {},
   "source": [
    "Jak widać zbiór zawiera informacje o konsumpcji poszczególnych alkoholi (piwo, spirytus, wino) w 193 państwach."
   ]
  },
  {
   "cell_type": "markdown",
   "id": "d3dda189",
   "metadata": {},
   "source": [
    "### 3. Podstawowe informacje o zbiorze danych"
   ]
  },
  {
   "cell_type": "code",
   "execution_count": 26,
   "id": "ba46d8f4",
   "metadata": {},
   "outputs": [
    {
     "name": "stdout",
     "output_type": "stream",
     "text": [
      "<class 'pandas.core.frame.DataFrame'>\n",
      "Index: 193 entries, Afghanistan to Zimbabwe\n",
      "Data columns (total 4 columns):\n",
      " #   Column                        Non-Null Count  Dtype  \n",
      "---  ------                        --------------  -----  \n",
      " 0   beer_servings                 193 non-null    int64  \n",
      " 1   spirit_servings               193 non-null    int64  \n",
      " 2   wine_servings                 193 non-null    int64  \n",
      " 3   total_litres_of_pure_alcohol  193 non-null    float64\n",
      "dtypes: float64(1), int64(3)\n",
      "memory usage: 7.5+ KB\n"
     ]
    }
   ],
   "source": [
    "df.info()"
   ]
  },
  {
   "cell_type": "code",
   "execution_count": 27,
   "id": "87ff78e9",
   "metadata": {},
   "outputs": [
    {
     "data": {
      "text/html": [
       "<div>\n",
       "<style scoped>\n",
       "    .dataframe tbody tr th:only-of-type {\n",
       "        vertical-align: middle;\n",
       "    }\n",
       "\n",
       "    .dataframe tbody tr th {\n",
       "        vertical-align: top;\n",
       "    }\n",
       "\n",
       "    .dataframe thead th {\n",
       "        text-align: right;\n",
       "    }\n",
       "</style>\n",
       "<table border=\"1\" class=\"dataframe\">\n",
       "  <thead>\n",
       "    <tr style=\"text-align: right;\">\n",
       "      <th></th>\n",
       "      <th>beer_servings</th>\n",
       "      <th>spirit_servings</th>\n",
       "      <th>wine_servings</th>\n",
       "      <th>total_litres_of_pure_alcohol</th>\n",
       "    </tr>\n",
       "  </thead>\n",
       "  <tbody>\n",
       "    <tr>\n",
       "      <th>count</th>\n",
       "      <td>193.000000</td>\n",
       "      <td>193.000000</td>\n",
       "      <td>193.000000</td>\n",
       "      <td>193.000000</td>\n",
       "    </tr>\n",
       "    <tr>\n",
       "      <th>mean</th>\n",
       "      <td>106.160622</td>\n",
       "      <td>80.994819</td>\n",
       "      <td>49.450777</td>\n",
       "      <td>4.717098</td>\n",
       "    </tr>\n",
       "    <tr>\n",
       "      <th>std</th>\n",
       "      <td>101.143103</td>\n",
       "      <td>88.284312</td>\n",
       "      <td>79.697598</td>\n",
       "      <td>3.773298</td>\n",
       "    </tr>\n",
       "    <tr>\n",
       "      <th>min</th>\n",
       "      <td>0.000000</td>\n",
       "      <td>0.000000</td>\n",
       "      <td>0.000000</td>\n",
       "      <td>0.000000</td>\n",
       "    </tr>\n",
       "    <tr>\n",
       "      <th>25%</th>\n",
       "      <td>20.000000</td>\n",
       "      <td>4.000000</td>\n",
       "      <td>1.000000</td>\n",
       "      <td>1.300000</td>\n",
       "    </tr>\n",
       "    <tr>\n",
       "      <th>50%</th>\n",
       "      <td>76.000000</td>\n",
       "      <td>56.000000</td>\n",
       "      <td>8.000000</td>\n",
       "      <td>4.200000</td>\n",
       "    </tr>\n",
       "    <tr>\n",
       "      <th>75%</th>\n",
       "      <td>188.000000</td>\n",
       "      <td>128.000000</td>\n",
       "      <td>59.000000</td>\n",
       "      <td>7.200000</td>\n",
       "    </tr>\n",
       "    <tr>\n",
       "      <th>max</th>\n",
       "      <td>376.000000</td>\n",
       "      <td>438.000000</td>\n",
       "      <td>370.000000</td>\n",
       "      <td>14.400000</td>\n",
       "    </tr>\n",
       "  </tbody>\n",
       "</table>\n",
       "</div>"
      ],
      "text/plain": [
       "       beer_servings  spirit_servings  wine_servings  \\\n",
       "count     193.000000       193.000000     193.000000   \n",
       "mean      106.160622        80.994819      49.450777   \n",
       "std       101.143103        88.284312      79.697598   \n",
       "min         0.000000         0.000000       0.000000   \n",
       "25%        20.000000         4.000000       1.000000   \n",
       "50%        76.000000        56.000000       8.000000   \n",
       "75%       188.000000       128.000000      59.000000   \n",
       "max       376.000000       438.000000     370.000000   \n",
       "\n",
       "       total_litres_of_pure_alcohol  \n",
       "count                    193.000000  \n",
       "mean                       4.717098  \n",
       "std                        3.773298  \n",
       "min                        0.000000  \n",
       "25%                        1.300000  \n",
       "50%                        4.200000  \n",
       "75%                        7.200000  \n",
       "max                       14.400000  "
      ]
     },
     "execution_count": 27,
     "metadata": {},
     "output_type": "execute_result"
    }
   ],
   "source": [
    "df.describe()"
   ]
  },
  {
   "cell_type": "markdown",
   "id": "290e5dff",
   "metadata": {},
   "source": [
    "### 4. Rankingi, wnioski\n",
    "**4.1 Ranking krajów o największym całkowitym spożyciu alkoholu:**"
   ]
  },
  {
   "cell_type": "code",
   "execution_count": 28,
   "id": "13657e2b",
   "metadata": {},
   "outputs": [
    {
     "data": {
      "text/html": [
       "<div>\n",
       "<style scoped>\n",
       "    .dataframe tbody tr th:only-of-type {\n",
       "        vertical-align: middle;\n",
       "    }\n",
       "\n",
       "    .dataframe tbody tr th {\n",
       "        vertical-align: top;\n",
       "    }\n",
       "\n",
       "    .dataframe thead th {\n",
       "        text-align: right;\n",
       "    }\n",
       "</style>\n",
       "<table border=\"1\" class=\"dataframe\">\n",
       "  <thead>\n",
       "    <tr style=\"text-align: right;\">\n",
       "      <th></th>\n",
       "      <th>beer_servings</th>\n",
       "      <th>spirit_servings</th>\n",
       "      <th>wine_servings</th>\n",
       "      <th>total_litres_of_pure_alcohol</th>\n",
       "    </tr>\n",
       "    <tr>\n",
       "      <th>country</th>\n",
       "      <th></th>\n",
       "      <th></th>\n",
       "      <th></th>\n",
       "      <th></th>\n",
       "    </tr>\n",
       "  </thead>\n",
       "  <tbody>\n",
       "    <tr>\n",
       "      <th>Belarus</th>\n",
       "      <td>142</td>\n",
       "      <td>373</td>\n",
       "      <td>42</td>\n",
       "      <td>14.4</td>\n",
       "    </tr>\n",
       "    <tr>\n",
       "      <th>Lithuania</th>\n",
       "      <td>343</td>\n",
       "      <td>244</td>\n",
       "      <td>56</td>\n",
       "      <td>12.9</td>\n",
       "    </tr>\n",
       "    <tr>\n",
       "      <th>Andorra</th>\n",
       "      <td>245</td>\n",
       "      <td>138</td>\n",
       "      <td>312</td>\n",
       "      <td>12.4</td>\n",
       "    </tr>\n",
       "    <tr>\n",
       "      <th>Grenada</th>\n",
       "      <td>199</td>\n",
       "      <td>438</td>\n",
       "      <td>28</td>\n",
       "      <td>11.9</td>\n",
       "    </tr>\n",
       "    <tr>\n",
       "      <th>Czech Republic</th>\n",
       "      <td>361</td>\n",
       "      <td>170</td>\n",
       "      <td>134</td>\n",
       "      <td>11.8</td>\n",
       "    </tr>\n",
       "    <tr>\n",
       "      <th>...</th>\n",
       "      <td>...</td>\n",
       "      <td>...</td>\n",
       "      <td>...</td>\n",
       "      <td>...</td>\n",
       "    </tr>\n",
       "    <tr>\n",
       "      <th>Iran</th>\n",
       "      <td>0</td>\n",
       "      <td>0</td>\n",
       "      <td>0</td>\n",
       "      <td>0.0</td>\n",
       "    </tr>\n",
       "    <tr>\n",
       "      <th>Kuwait</th>\n",
       "      <td>0</td>\n",
       "      <td>0</td>\n",
       "      <td>0</td>\n",
       "      <td>0.0</td>\n",
       "    </tr>\n",
       "    <tr>\n",
       "      <th>Pakistan</th>\n",
       "      <td>0</td>\n",
       "      <td>0</td>\n",
       "      <td>0</td>\n",
       "      <td>0.0</td>\n",
       "    </tr>\n",
       "    <tr>\n",
       "      <th>Libya</th>\n",
       "      <td>0</td>\n",
       "      <td>0</td>\n",
       "      <td>0</td>\n",
       "      <td>0.0</td>\n",
       "    </tr>\n",
       "    <tr>\n",
       "      <th>Afghanistan</th>\n",
       "      <td>0</td>\n",
       "      <td>0</td>\n",
       "      <td>0</td>\n",
       "      <td>0.0</td>\n",
       "    </tr>\n",
       "  </tbody>\n",
       "</table>\n",
       "<p>193 rows × 4 columns</p>\n",
       "</div>"
      ],
      "text/plain": [
       "                beer_servings  spirit_servings  wine_servings  \\\n",
       "country                                                         \n",
       "Belarus                   142              373             42   \n",
       "Lithuania                 343              244             56   \n",
       "Andorra                   245              138            312   \n",
       "Grenada                   199              438             28   \n",
       "Czech Republic            361              170            134   \n",
       "...                       ...              ...            ...   \n",
       "Iran                        0                0              0   \n",
       "Kuwait                      0                0              0   \n",
       "Pakistan                    0                0              0   \n",
       "Libya                       0                0              0   \n",
       "Afghanistan                 0                0              0   \n",
       "\n",
       "                total_litres_of_pure_alcohol  \n",
       "country                                       \n",
       "Belarus                                 14.4  \n",
       "Lithuania                               12.9  \n",
       "Andorra                                 12.4  \n",
       "Grenada                                 11.9  \n",
       "Czech Republic                          11.8  \n",
       "...                                      ...  \n",
       "Iran                                     0.0  \n",
       "Kuwait                                   0.0  \n",
       "Pakistan                                 0.0  \n",
       "Libya                                    0.0  \n",
       "Afghanistan                              0.0  \n",
       "\n",
       "[193 rows x 4 columns]"
      ]
     },
     "execution_count": 28,
     "metadata": {},
     "output_type": "execute_result"
    }
   ],
   "source": [
    "total_sorted = df.sort_values(\"total_litres_of_pure_alcohol\", ascending = False)\n",
    "total_sorted"
   ]
  },
  {
   "cell_type": "markdown",
   "id": "d7d0fc29",
   "metadata": {},
   "source": [
    "#### 4.2 Kraje, gdzie spożycie alkoholowe jest równe zero:"
   ]
  },
  {
   "cell_type": "code",
   "execution_count": 34,
   "id": "bb95ec9c",
   "metadata": {},
   "outputs": [
    {
     "data": {
      "text/html": [
       "<div>\n",
       "<style scoped>\n",
       "    .dataframe tbody tr th:only-of-type {\n",
       "        vertical-align: middle;\n",
       "    }\n",
       "\n",
       "    .dataframe tbody tr th {\n",
       "        vertical-align: top;\n",
       "    }\n",
       "\n",
       "    .dataframe thead th {\n",
       "        text-align: right;\n",
       "    }\n",
       "</style>\n",
       "<table border=\"1\" class=\"dataframe\">\n",
       "  <thead>\n",
       "    <tr style=\"text-align: right;\">\n",
       "      <th></th>\n",
       "      <th>beer_servings</th>\n",
       "      <th>spirit_servings</th>\n",
       "      <th>wine_servings</th>\n",
       "      <th>total_litres_of_pure_alcohol</th>\n",
       "    </tr>\n",
       "    <tr>\n",
       "      <th>country</th>\n",
       "      <th></th>\n",
       "      <th></th>\n",
       "      <th></th>\n",
       "      <th></th>\n",
       "    </tr>\n",
       "  </thead>\n",
       "  <tbody>\n",
       "    <tr>\n",
       "      <th>Afghanistan</th>\n",
       "      <td>0</td>\n",
       "      <td>0</td>\n",
       "      <td>0</td>\n",
       "      <td>0.0</td>\n",
       "    </tr>\n",
       "    <tr>\n",
       "      <th>Bangladesh</th>\n",
       "      <td>0</td>\n",
       "      <td>0</td>\n",
       "      <td>0</td>\n",
       "      <td>0.0</td>\n",
       "    </tr>\n",
       "    <tr>\n",
       "      <th>North Korea</th>\n",
       "      <td>0</td>\n",
       "      <td>0</td>\n",
       "      <td>0</td>\n",
       "      <td>0.0</td>\n",
       "    </tr>\n",
       "    <tr>\n",
       "      <th>Iran</th>\n",
       "      <td>0</td>\n",
       "      <td>0</td>\n",
       "      <td>0</td>\n",
       "      <td>0.0</td>\n",
       "    </tr>\n",
       "    <tr>\n",
       "      <th>Kuwait</th>\n",
       "      <td>0</td>\n",
       "      <td>0</td>\n",
       "      <td>0</td>\n",
       "      <td>0.0</td>\n",
       "    </tr>\n",
       "    <tr>\n",
       "      <th>Libya</th>\n",
       "      <td>0</td>\n",
       "      <td>0</td>\n",
       "      <td>0</td>\n",
       "      <td>0.0</td>\n",
       "    </tr>\n",
       "    <tr>\n",
       "      <th>Maldives</th>\n",
       "      <td>0</td>\n",
       "      <td>0</td>\n",
       "      <td>0</td>\n",
       "      <td>0.0</td>\n",
       "    </tr>\n",
       "    <tr>\n",
       "      <th>Marshall Islands</th>\n",
       "      <td>0</td>\n",
       "      <td>0</td>\n",
       "      <td>0</td>\n",
       "      <td>0.0</td>\n",
       "    </tr>\n",
       "    <tr>\n",
       "      <th>Mauritania</th>\n",
       "      <td>0</td>\n",
       "      <td>0</td>\n",
       "      <td>0</td>\n",
       "      <td>0.0</td>\n",
       "    </tr>\n",
       "    <tr>\n",
       "      <th>Monaco</th>\n",
       "      <td>0</td>\n",
       "      <td>0</td>\n",
       "      <td>0</td>\n",
       "      <td>0.0</td>\n",
       "    </tr>\n",
       "    <tr>\n",
       "      <th>Pakistan</th>\n",
       "      <td>0</td>\n",
       "      <td>0</td>\n",
       "      <td>0</td>\n",
       "      <td>0.0</td>\n",
       "    </tr>\n",
       "    <tr>\n",
       "      <th>San Marino</th>\n",
       "      <td>0</td>\n",
       "      <td>0</td>\n",
       "      <td>0</td>\n",
       "      <td>0.0</td>\n",
       "    </tr>\n",
       "    <tr>\n",
       "      <th>Somalia</th>\n",
       "      <td>0</td>\n",
       "      <td>0</td>\n",
       "      <td>0</td>\n",
       "      <td>0.0</td>\n",
       "    </tr>\n",
       "  </tbody>\n",
       "</table>\n",
       "</div>"
      ],
      "text/plain": [
       "                  beer_servings  spirit_servings  wine_servings  \\\n",
       "country                                                           \n",
       "Afghanistan                   0                0              0   \n",
       "Bangladesh                    0                0              0   \n",
       "North Korea                   0                0              0   \n",
       "Iran                          0                0              0   \n",
       "Kuwait                        0                0              0   \n",
       "Libya                         0                0              0   \n",
       "Maldives                      0                0              0   \n",
       "Marshall Islands              0                0              0   \n",
       "Mauritania                    0                0              0   \n",
       "Monaco                        0                0              0   \n",
       "Pakistan                      0                0              0   \n",
       "San Marino                    0                0              0   \n",
       "Somalia                       0                0              0   \n",
       "\n",
       "                  total_litres_of_pure_alcohol  \n",
       "country                                         \n",
       "Afghanistan                                0.0  \n",
       "Bangladesh                                 0.0  \n",
       "North Korea                                0.0  \n",
       "Iran                                       0.0  \n",
       "Kuwait                                     0.0  \n",
       "Libya                                      0.0  \n",
       "Maldives                                   0.0  \n",
       "Marshall Islands                           0.0  \n",
       "Mauritania                                 0.0  \n",
       "Monaco                                     0.0  \n",
       "Pakistan                                   0.0  \n",
       "San Marino                                 0.0  \n",
       "Somalia                                    0.0  "
      ]
     },
     "execution_count": 34,
     "metadata": {},
     "output_type": "execute_result"
    }
   ],
   "source": [
    "no_drink = df[df['total_litres_of_pure_alcohol'] == 0]\n",
    "no_drink"
   ]
  },
  {
   "cell_type": "code",
   "execution_count": 35,
   "id": "02c90b63",
   "metadata": {},
   "outputs": [
    {
     "data": {
      "text/plain": [
       "13"
      ]
     },
     "execution_count": 35,
     "metadata": {},
     "output_type": "execute_result"
    }
   ],
   "source": [
    "len(no_drink)"
   ]
  },
  {
   "cell_type": "markdown",
   "id": "93f028e2",
   "metadata": {},
   "source": [
    "Jest 13 krajów, w których konsumpcja alkoholu wynosi 0"
   ]
  },
  {
   "cell_type": "markdown",
   "id": "f1990096",
   "metadata": {},
   "source": [
    "#### 4.3 Top 10 krajów pod względem konsumpcji piwa, spirytusu (?), wine"
   ]
  },
  {
   "cell_type": "code",
   "execution_count": 44,
   "id": "088ba12c",
   "metadata": {},
   "outputs": [],
   "source": [
    "beer_top = df.sort_values(\"beer_servings\", ascending = False)['beer_servings'][:10]\n",
    "spirit_top = df.sort_values(\"spirit_servings\", ascending = False)['spirit_servings'][:10]\n",
    "wine_top = df.sort_values(\"wine_servings\", ascending = False)['wine_servings'][:10]"
   ]
  },
  {
   "cell_type": "code",
   "execution_count": 45,
   "id": "71850cff",
   "metadata": {},
   "outputs": [
    {
     "data": {
      "text/plain": [
       "country\n",
       "Namibia           376\n",
       "Czech Republic    361\n",
       "Gabon             347\n",
       "Germany           346\n",
       "Lithuania         343\n",
       "Poland            343\n",
       "Venezuela         333\n",
       "Ireland           313\n",
       "Palau             306\n",
       "Romania           297\n",
       "Name: beer_servings, dtype: int64"
      ]
     },
     "execution_count": 45,
     "metadata": {},
     "output_type": "execute_result"
    }
   ],
   "source": [
    "beer_top"
   ]
  },
  {
   "cell_type": "code",
   "execution_count": 46,
   "id": "6eb19e13",
   "metadata": {},
   "outputs": [
    {
     "data": {
      "text/plain": [
       "country\n",
       "Grenada               438\n",
       "Belarus               373\n",
       "Haiti                 326\n",
       "Russian Federation    326\n",
       "St. Lucia             315\n",
       "Guyana                302\n",
       "Slovakia              293\n",
       "Dominica              286\n",
       "Thailand              258\n",
       "Cook Islands          254\n",
       "Name: spirit_servings, dtype: int64"
      ]
     },
     "execution_count": 46,
     "metadata": {},
     "output_type": "execute_result"
    }
   ],
   "source": [
    "spirit_top"
   ]
  },
  {
   "cell_type": "code",
   "execution_count": 47,
   "id": "00df8199",
   "metadata": {},
   "outputs": [
    {
     "data": {
      "text/plain": [
       "country\n",
       "France               370\n",
       "Portugal             339\n",
       "Andorra              312\n",
       "Switzerland          280\n",
       "Denmark              278\n",
       "Slovenia             276\n",
       "Luxembourg           271\n",
       "Croatia              254\n",
       "Italy                237\n",
       "Equatorial Guinea    233\n",
       "Name: wine_servings, dtype: int64"
      ]
     },
     "execution_count": 47,
     "metadata": {},
     "output_type": "execute_result"
    }
   ],
   "source": [
    "wine_top"
   ]
  },
  {
   "cell_type": "markdown",
   "id": "63871e2e",
   "metadata": {},
   "source": [
    "#### 4.4 Korelacja między spożyciem poszczególnych alkoholi"
   ]
  },
  {
   "cell_type": "code",
   "execution_count": 48,
   "id": "eeb33457",
   "metadata": {},
   "outputs": [
    {
     "data": {
      "image/png": "[encoded data removed]",
      "text/plain": [
       "<Figure size 432x288 with 2 Axes>"
      ]
     },
     "metadata": {
      "needs_background": "light"
     },
     "output_type": "display_data"
    }
   ],
   "source": [
    "sns.heatmap(df.corr());"
   ]
  },
  {
   "cell_type": "markdown",
   "id": "373b59ac",
   "metadata": {},
   "source": [
    "Wnioski:\n",
    "- korelacja między spożyciem piwa i pozostałych alkoholi jest dość wysoka- na poziomie 0.45-0.6\n",
    "- korelacja między spożyciem wina i spirytusu jest zaskakująco mała- na poziomie 0.2"
   ]
  }
 ],
 "metadata": {
  "kernelspec": {
   "display_name": "Python 3",
   "language": "python",
   "name": "python3"
  },
  "language_info": {
   "codemirror_mode": {
    "name": "ipython",
    "version": 3
   },
   "file_extension": ".py",
   "mimetype": "text/x-python",
   "name": "python",
   "nbconvert_exporter": "python",
   "pygments_lexer": "ipython3",
   "version": "3.8.8"
  }
 },
 "nbformat": 4,
 "nbformat_minor": 5
}
